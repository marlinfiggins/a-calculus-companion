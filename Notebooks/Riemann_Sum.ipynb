{
 "cells": [
  {
   "cell_type": "markdown",
   "metadata": {},
   "source": [
    "## Visualizing Riemann Sums, Approximation as an appendix!\n",
    "\n",
    "We're going to try illusrate the idea of Riemann sums using computer code to compute out estimates. Suppose we have a function $f$. The basic formula for the Riemann sums for $f$ on $[a,b]$ is given by \n",
    "$$ L(f)=\\sum_{i=1}^{n}f(x_{i-1})(x_i-x_{i-1})$$ and $$U(f)=\\sum_{i=1}^{n}f(x_i)(x_i-x_{i-1})$$\n",
    "where the $x_i$ form a  *paritition* of $[a,b]$ i.e. $a=x_o<x_1< x_2 \\ldots <x_n=b$. The following code will compute and plot the Riemann sum of an arbitrary function $f(x)$ from $[a,b]$ using $n$ subintervals of equal length. \n",
    "\n",
    "I plan to include section or appendix on how this can be used to approximate integral of difficult integral like $e^{\\sin x}+e^{-\\cos x}-2$ accurately with some more heavy math like in [this](https://www.math.ubc.ca/~pwalls/math-python/integration/riemann-sums/).\n",
    "    "
   ]
  },
  {
   "cell_type": "code",
   "execution_count": 1,
   "metadata": {},
   "outputs": [
    {
     "ename": "LoadError",
     "evalue": "syntax: invalid identifier name \".\"",
     "output_type": "error",
     "traceback": [
      "syntax: invalid identifier name \".\"",
      ""
     ]
    }
   ],
   "source": [
    "function riemannsum(f, a, b, n, method)\n",
    "    \n",
    "    dx = (b - a)/n\n",
    "    partition = [a + i*dx for i in 0:n]\n",
    "    \n",
    "    if method == \"left\"\n",
    "        x = partition[1:(end-1)]\n",
    "    if method == \"right\" \n",
    "        x = partition[2:end]\n",
    "    if method == \"middle\"\n",
    "        x = (partition[2:end] - partition[1:(end-1)])/2\n",
    "        \n",
    "    fX = f.(x)\n",
    "    r_sum = sum( fX *. dx))\n",
    "        \n",
    "    plot(x, fX.)\n",
    "    plot!(x,fX, st=:bar)\n",
    "    current()\n",
    "end\n",
    "\n"
   ]
  },
  {
   "cell_type": "code",
   "execution_count": null,
   "metadata": {},
   "outputs": [],
   "source": [
    "riemannsum(f, a=0, b=2, n=2, method='middle')\n",
    "\n"
   ]
  },
  {
   "cell_type": "markdown",
   "metadata": {},
   "source": [
    "## Accuracy of this method.\n",
    "\n",
    "In trying to find the accuracy of this method, we need to find some way to bound the error of the Riemann sum and the integral. For this, we rely on the following theorem.\n",
    "\n",
    "If $f$ is a differentiable function on $[a,b]$ and $\\abs{f'(x)}\\leq M$, then\n",
    "$$E_n=\\abs{ \\int_{a}^{b} f(x)dx- I_n(f)}\\leq M\\frac{(b-a)^2}{n},$$\n",
    "where $I_n$ is either the left or right Riemann sum with $n$ subintervals.\n",
    "\n",
    "If, in addition, we know that $f$ is increasing or decreasing, then we have\n",
    "$$E_n=\\abs{ \\int_{a}^{b} f(x)dx- I_n(f)}\\leq \\abs{f(b)-f(a)}\\frac{b-a}{n}$$\n",
    "\n",
    "The case of $f(x)=e^{\\sin x}+e^{-\\cos x}-2$ on the interval $[-\\frac{\\pi}{4},\\frac{7\\pi}{4}]$ , we have $f'(x)=\\cos(x)\\cdot e^{\\sin(x)}+\\sin(x)\\cdot e^{\\cos(x)}$. Applying the triangle inequality, we see that $\\abs{f'(x)}\\leq \\abs{\\cos(x)\\cdot e^{\\sin(x)}} +\\abs{\\sin(x)\\cdot e^{\\cos(x)}}$. Using the fact $\\abs{\\sin x}, \\abs{\\cos x}\\leq 1$ and $e^x$ is montonically increasing, we say that $\\abs{f'(x)}\\leq 2e-2$. Therefore by the theorem above, we see that\n",
    "$$ E_n\\leq (2e-2)\\cdot\\frac{(2\\pi)^2}{n}<\\frac{135.67}{n}$$\n",
    "\n",
    "Computing this, we see our error $E_n$ is bounded by $\\frac{135.67}{n}$. Therefore, if we want to compute this integral within $.1$, we see we must solve the inequality \n",
    "$$\\frac{135.67}{n} <0.1$$\n",
    "giving us $n=1357$."
   ]
  },
  {
   "cell_type": "markdown",
   "metadata": {},
   "source": [
    "We can repeat this analysis on a function for which we know the value of the integral already. Consider $f(x)=\\sqrt{2-x^2}$. Simple geometry shows this is a half circle with radius $\\sqrt{2}$ and that area of this circle is given by $$\\int_{-\\sqrt{2}}^{\\sqrt{2}}\\sqrt{2-x^2}dx=\\pi.$$ Therefore, we can see that $\\abs{f(x)}\\leq 1$ and that our error $E_n$ is bounded by $\\frac{16}{n}$. Therefore, we can estimate $\\pi$ within a certain value using this integral.Once again applying the first theorem, and in doing so, we see that we need $n=16000$ to approximate $pi$ within $0.001$. We check this with the code below."
   ]
  },
  {
   "cell_type": "markdown",
   "metadata": {},
   "source": [
    "Since the bound we used was crude, relying on the *worst case* estimate, $n=16000$ may not be the minimum $n$ needed, but that any $n>16000$ is guarrenteed to work. Testing, we can see that $n=800$ is suffiecent for the accuracy we wanted. Even though computationally, we can't actually get the limit the above theorem helps us to see what the limit might exist. Ideally, we don't want to have to use these methods everytime we want to solve an integral problem, so the next section will develop 'short-cuts' we can use in calculating the derivative."
   ]
  }
 ],
 "metadata": {
  "kernelspec": {
   "display_name": "Julia 1.3.1",
   "language": "julia",
   "name": "julia-1.3"
  },
  "language_info": {
   "file_extension": ".jl",
   "mimetype": "application/julia",
   "name": "julia",
   "version": "1.3.1"
  }
 },
 "nbformat": 4,
 "nbformat_minor": 2
}
